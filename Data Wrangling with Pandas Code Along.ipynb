{
 "cells": [
  {
   "cell_type": "markdown",
   "metadata": {},
   "source": [
    "# IPL Dataset Analysis\n",
    "\n",
    "## Problem Statement\n",
    "We want to know as to what happens during an IPL match which raises several questions in our mind with our limited knowledge about the game called cricket on which it is based. This analysis is done to know as which factors led one of the team to win and how does it matter."
   ]
  },
  {
   "cell_type": "markdown",
   "metadata": {},
   "source": [
    "## About the Dataset :\n",
    "The Indian Premier League (IPL) is a professional T20 cricket league in India contested during April-May of every year by teams representing Indian cities. It is the most-attended cricket league in the world and ranks sixth among all the sports leagues. It has teams with players from around the world and is very competitive and entertaining with a lot of close matches between teams.\n",
    "\n",
    "The IPL and other cricket related datasets are available at [cricsheet.org](https://cricsheet.org/%c2%a0(data). Feel free to visit the website and explore the data by yourself as exploring new sources of data is one of the interesting activities a data scientist gets to do.\n",
    "\n",
    "Snapshot of the data you will be working on:<br>\n",
    "<br>\n",
    "The dataset 136522 data points and 23 features<br>\n",
    "\n",
    "|Features|Description|\n",
    "|-----|-----|\n",
    "|match_code|Code pertaining to individual match|\n",
    "|date|Date of the match played|\n",
    "|city|City where the match was played|\n",
    "|venue|Stadium in that city where the match was played|\n",
    "|team1|team1|\n",
    "|team2|team2|\n",
    "|toss_winner|Who won the toss out of two teams|\n",
    "|toss_decision|toss decision taken by toss winner|\n",
    "|winner|Winner of that match between two teams|\n",
    "|win_type|How did the team won(by wickets or runs etc.)|\n",
    "|win_margin|difference with which the team won| \n",
    "|inning|inning type(1st or 2nd)|\n",
    "|delivery|ball delivery|\n",
    "|batting_team|current team on batting|\n",
    "|batsman|current batsman on strike|\n",
    "|non_striker|batsman on non-strike|\n",
    "|bowler|Current bowler|\n",
    "|runs|runs scored|\n",
    "|extras|extra run scored|\n",
    "|total|total run scored on that delivery including runs and extras|\n",
    "|extras_type|extra run scored by wides or no ball or legby|\n",
    "|player_out|player that got out|\n",
    "|wicket_kind|How did the player got out|\n",
    "|wicket_fielders|Fielder who caught out the player by catch|\n"
   ]
  },
  {
   "cell_type": "markdown",
   "metadata": {},
   "source": [
    "### Analyzing data using pandas module"
   ]
  },
  {
   "cell_type": "markdown",
   "metadata": {},
   "source": [
    "### Read the data using pandas module."
   ]
  },
  {
   "cell_type": "code",
   "execution_count": 1,
   "metadata": {},
   "outputs": [
    {
     "data": {
      "text/plain": [
       "(136522, 24)"
      ]
     },
     "execution_count": 1,
     "metadata": {},
     "output_type": "execute_result"
    }
   ],
   "source": [
    "import pandas as pd\n",
    "import numpy as np\n",
    "df_ipl = pd.read_csv('./data/ipl_dataset.csv')\n",
    "df_ipl.shape"
   ]
  },
  {
   "cell_type": "code",
   "execution_count": 2,
   "metadata": {},
   "outputs": [
    {
     "data": {
      "text/plain": [
       "577"
      ]
     },
     "execution_count": 2,
     "metadata": {},
     "output_type": "execute_result"
    }
   ],
   "source": [
    "len(df_ipl['match_code'].unique())\n",
    "\n",
    "# You can also use: \n",
    "#df_ipl['match_code'].nunique()"
   ]
  },
  {
   "cell_type": "markdown",
   "metadata": {},
   "source": [
    "### There are certain fixed cities all around the world where matches are held. Find the list of unique cities where matches were played "
   ]
  },
  {
   "cell_type": "code",
   "execution_count": 4,
   "metadata": {},
   "outputs": [
    {
     "data": {
      "text/plain": [
       "array(['East London', 'Port Elizabeth', 'Centurion', 'neutral_venue',\n",
       "       'Chennai', 'Jaipur', 'Kolkata', 'Delhi', 'Chandigarh', 'Hyderabad',\n",
       "       'Ranchi', 'Mumbai', 'Bangalore', 'Dharamsala', 'Pune', 'Rajkot',\n",
       "       'Durban', 'Cuttack', 'Cape Town', 'Ahmedabad', 'Johannesburg',\n",
       "       'Visakhapatnam', 'Abu Dhabi', 'Raipur', 'Kochi', 'Kimberley',\n",
       "       'Nagpur', 'Bloemfontein', 'Indore', 'Kanpur'], dtype=object)"
      ]
     },
     "execution_count": 4,
     "metadata": {},
     "output_type": "execute_result"
    }
   ],
   "source": [
    "# Corrected as Venues to Cities\n",
    "df_ipl['city'].unique()"
   ]
  },
  {
   "cell_type": "markdown",
   "metadata": {},
   "source": [
    "### Find the columns which contains null values if any ?"
   ]
  },
  {
   "cell_type": "code",
   "execution_count": 13,
   "metadata": {},
   "outputs": [
    {
     "data": {
      "text/plain": [
       "Index(['winner', 'win_type', 'win_margin', 'extras_type', 'player_out',\n",
       "       'wicket_kind', 'wicket_fielders'],\n",
       "      dtype='object')"
      ]
     },
     "execution_count": 13,
     "metadata": {},
     "output_type": "execute_result"
    }
   ],
   "source": [
    "df_ipl.isna().sum() >0\n",
    "df_ipl.columns[df_ipl.isna().sum() >0]     #cant do df_ipl[df_ipl.isna().sum() >0] because df_ipl will have length of columns say 11\n",
    "#HOwever df_ipl.columns has TRUE/False value so it maps to the boolean for the is.na() condition"
   ]
  },
  {
   "cell_type": "markdown",
   "metadata": {},
   "source": [
    "### Though the match is held in different cities all around the world it may or maynot have multiple venues (stadiums where matches are held) list down top 5 most played venues \n"
   ]
  },
  {
   "cell_type": "code",
   "execution_count": 32,
   "metadata": {},
   "outputs": [
    {
     "data": {
      "text/plain": [
       "venue\n",
       "M Chinnaswamy Stadium              58\n",
       "Eden Gardens                       54\n",
       "Feroz Shah Kotla                   53\n",
       "Wankhede Stadium                   49\n",
       "MA Chidambaram Stadium, Chepauk    48\n",
       "Name: match_code, dtype: int64"
      ]
     },
     "execution_count": 32,
     "metadata": {},
     "output_type": "execute_result"
    }
   ],
   "source": [
    "#df_ipl['venue'].value_counts().head()   cant ue because this is given at a delivery level and not match level\n",
    "df_ipl.groupby(['venue']).match_code.nunique().sort_values(ascending=False).head()   #REMEMBER NUNIQUE"
   ]
  },
  {
   "cell_type": "code",
   "execution_count": null,
   "metadata": {},
   "outputs": [],
   "source": []
  },
  {
   "cell_type": "markdown",
   "metadata": {},
   "source": [
    "### Make a runs vs run-count frequency table"
   ]
  },
  {
   "cell_type": "code",
   "execution_count": 40,
   "metadata": {},
   "outputs": [
    {
     "data": {
      "text/plain": [
       "0    55870\n",
       "1    50087\n",
       "4    15409\n",
       "2     8835\n",
       "6     5806\n",
       "3      473\n",
       "5       42\n",
       "Name: runs, dtype: int64"
      ]
     },
     "execution_count": 40,
     "metadata": {},
     "output_type": "execute_result"
    }
   ],
   "source": [
    "df_ipl['runs'].value_counts()"
   ]
  },
  {
   "cell_type": "markdown",
   "metadata": {},
   "source": [
    "### IPL seasons are held every year now let's look at our data and extract how many seasons were recorded."
   ]
  },
  {
   "cell_type": "code",
   "execution_count": 37,
   "metadata": {
    "scrolled": true
   },
   "outputs": [
    {
     "data": {
      "text/plain": [
       "9"
      ]
     },
     "execution_count": 37,
     "metadata": {},
     "output_type": "execute_result"
    }
   ],
   "source": [
    "df_ipl['datetime']=pd.to_datetime(df_ipl['date'])\n",
    "df_ipl['year']=pd.DatetimeIndex(df_ipl['datetime']).year\n",
    "df_ipl['year'].nunique()"
   ]
  },
  {
   "cell_type": "markdown",
   "metadata": {},
   "source": [
    "### What are the total no. of matches played per season"
   ]
  },
  {
   "cell_type": "code",
   "execution_count": 49,
   "metadata": {},
   "outputs": [
    {
     "data": {
      "text/plain": [
       "year\n",
       "2008    58\n",
       "2009    57\n",
       "2010    60\n",
       "2011    73\n",
       "2012    74\n",
       "2013    76\n",
       "2014    60\n",
       "2015    59\n",
       "2016    60\n",
       "Name: match_code, dtype: int64"
      ]
     },
     "execution_count": 49,
     "metadata": {},
     "output_type": "execute_result"
    }
   ],
   "source": [
    "df_ipl[['year','match_code']]\n",
    "df_ipl.groupby(['year']).match_code.nunique()"
   ]
  },
  {
   "cell_type": "markdown",
   "metadata": {},
   "source": [
    "### What are the total runs scored across each season "
   ]
  },
  {
   "cell_type": "code",
   "execution_count": 59,
   "metadata": {},
   "outputs": [
    {
     "data": {
      "text/plain": [
       "year\n",
       "2008    17936\n",
       "2009    16320\n",
       "2010    18862\n",
       "2011    21154\n",
       "2012    22451\n",
       "2013    22541\n",
       "2014    18909\n",
       "2015    18331\n",
       "2016    18862\n",
       "Name: total, dtype: int64"
      ]
     },
     "execution_count": 59,
     "metadata": {},
     "output_type": "execute_result"
    }
   ],
   "source": [
    "df_ipl.groupby(['year']).total.sum()"
   ]
  },
  {
   "cell_type": "code",
   "execution_count": null,
   "metadata": {},
   "outputs": [],
   "source": []
  },
  {
   "cell_type": "markdown",
   "metadata": {},
   "source": [
    "### There are teams which are high performing and low performing. Let's look at the aspect of performance of an individual team. Filter the data and aggregate the runs scored by each team. Display top 10 results which are having runs scored over 200."
   ]
  },
  {
   "cell_type": "code",
   "execution_count": 66,
   "metadata": {},
   "outputs": [
    {
     "data": {
      "text/plain": [
       "match_code  batting_team               \n",
       "598027      Royal Challengers Bangalore    263\n",
       "980987      Royal Challengers Bangalore    248\n",
       "419137      Chennai Super Kings            246\n",
       "335983      Chennai Super Kings            240\n",
       "829795      Royal Challengers Bangalore    235\n",
       "501260      Kings XI Punjab                232\n",
       "733987      Kings XI Punjab                231\n",
       "501223      Delhi Daredevils               231\n",
       "980907      Royal Challengers Bangalore    227\n",
       "829785      Royal Challengers Bangalore    226\n",
       "Name: total, dtype: int64"
      ]
     },
     "execution_count": 66,
     "metadata": {},
     "output_type": "execute_result"
    }
   ],
   "source": [
    "df_ipl.groupby(['match_code','batting_team']).total.sum().sort_values(ascending=False).head(10)"
   ]
  },
  {
   "cell_type": "code",
   "execution_count": null,
   "metadata": {},
   "outputs": [],
   "source": []
  },
  {
   "cell_type": "markdown",
   "metadata": {},
   "source": [
    "### Chasing a 200+ target is difficulty in T-20 format. What are the chances that a team scoring runs above 200  in their 1st inning is chased by the opposition in 2nd inning."
   ]
  },
  {
   "cell_type": "code",
   "execution_count": 73,
   "metadata": {},
   "outputs": [
    {
     "data": {
      "text/html": [
       "<div>\n",
       "<style scoped>\n",
       "    .dataframe tbody tr th:only-of-type {\n",
       "        vertical-align: middle;\n",
       "    }\n",
       "\n",
       "    .dataframe tbody tr th {\n",
       "        vertical-align: top;\n",
       "    }\n",
       "\n",
       "    .dataframe thead th {\n",
       "        text-align: right;\n",
       "    }\n",
       "</style>\n",
       "<table border=\"1\" class=\"dataframe\">\n",
       "  <thead>\n",
       "    <tr style=\"text-align: right;\">\n",
       "      <th>inning</th>\n",
       "      <th>1</th>\n",
       "      <th>2</th>\n",
       "    </tr>\n",
       "    <tr>\n",
       "      <th>match_code</th>\n",
       "      <th></th>\n",
       "      <th></th>\n",
       "    </tr>\n",
       "  </thead>\n",
       "  <tbody>\n",
       "    <tr>\n",
       "      <th>335982</th>\n",
       "      <td>222.0</td>\n",
       "      <td>82.0</td>\n",
       "    </tr>\n",
       "    <tr>\n",
       "      <th>335983</th>\n",
       "      <td>240.0</td>\n",
       "      <td>207.0</td>\n",
       "    </tr>\n",
       "    <tr>\n",
       "      <th>335984</th>\n",
       "      <td>129.0</td>\n",
       "      <td>132.0</td>\n",
       "    </tr>\n",
       "    <tr>\n",
       "      <th>335985</th>\n",
       "      <td>165.0</td>\n",
       "      <td>166.0</td>\n",
       "    </tr>\n",
       "    <tr>\n",
       "      <th>335986</th>\n",
       "      <td>110.0</td>\n",
       "      <td>112.0</td>\n",
       "    </tr>\n",
       "    <tr>\n",
       "      <th>335987</th>\n",
       "      <td>166.0</td>\n",
       "      <td>168.0</td>\n",
       "    </tr>\n",
       "    <tr>\n",
       "      <th>335988</th>\n",
       "      <td>142.0</td>\n",
       "      <td>143.0</td>\n",
       "    </tr>\n",
       "    <tr>\n",
       "      <th>335989</th>\n",
       "      <td>208.0</td>\n",
       "      <td>202.0</td>\n",
       "    </tr>\n",
       "    <tr>\n",
       "      <th>335990</th>\n",
       "      <td>214.0</td>\n",
       "      <td>217.0</td>\n",
       "    </tr>\n",
       "    <tr>\n",
       "      <th>335991</th>\n",
       "      <td>182.0</td>\n",
       "      <td>116.0</td>\n",
       "    </tr>\n",
       "    <tr>\n",
       "      <th>335992</th>\n",
       "      <td>135.0</td>\n",
       "      <td>138.0</td>\n",
       "    </tr>\n",
       "    <tr>\n",
       "      <th>335993</th>\n",
       "      <td>147.0</td>\n",
       "      <td>152.0</td>\n",
       "    </tr>\n",
       "    <tr>\n",
       "      <th>335994</th>\n",
       "      <td>154.0</td>\n",
       "      <td>155.0</td>\n",
       "    </tr>\n",
       "    <tr>\n",
       "      <th>335995</th>\n",
       "      <td>158.0</td>\n",
       "      <td>162.0</td>\n",
       "    </tr>\n",
       "    <tr>\n",
       "      <th>335996</th>\n",
       "      <td>178.0</td>\n",
       "      <td>165.0</td>\n",
       "    </tr>\n",
       "    <tr>\n",
       "      <th>335997</th>\n",
       "      <td>137.0</td>\n",
       "      <td>138.0</td>\n",
       "    </tr>\n",
       "    <tr>\n",
       "      <th>335998</th>\n",
       "      <td>191.0</td>\n",
       "      <td>181.0</td>\n",
       "    </tr>\n",
       "    <tr>\n",
       "      <th>335999</th>\n",
       "      <td>164.0</td>\n",
       "      <td>167.0</td>\n",
       "    </tr>\n",
       "    <tr>\n",
       "      <th>336000</th>\n",
       "      <td>196.0</td>\n",
       "      <td>151.0</td>\n",
       "    </tr>\n",
       "    <tr>\n",
       "      <th>336001</th>\n",
       "      <td>169.0</td>\n",
       "      <td>172.0</td>\n",
       "    </tr>\n",
       "    <tr>\n",
       "      <th>336002</th>\n",
       "      <td>165.0</td>\n",
       "      <td>171.0</td>\n",
       "    </tr>\n",
       "    <tr>\n",
       "      <th>336003</th>\n",
       "      <td>178.0</td>\n",
       "      <td>169.0</td>\n",
       "    </tr>\n",
       "    <tr>\n",
       "      <th>336004</th>\n",
       "      <td>162.0</td>\n",
       "      <td>133.0</td>\n",
       "    </tr>\n",
       "    <tr>\n",
       "      <th>336005</th>\n",
       "      <td>109.0</td>\n",
       "      <td>110.0</td>\n",
       "    </tr>\n",
       "    <tr>\n",
       "      <th>336006</th>\n",
       "      <td>126.0</td>\n",
       "      <td>127.0</td>\n",
       "    </tr>\n",
       "    <tr>\n",
       "      <th>336007</th>\n",
       "      <td>144.0</td>\n",
       "      <td>148.0</td>\n",
       "    </tr>\n",
       "    <tr>\n",
       "      <th>336008</th>\n",
       "      <td>103.0</td>\n",
       "      <td>104.0</td>\n",
       "    </tr>\n",
       "    <tr>\n",
       "      <th>336009</th>\n",
       "      <td>187.0</td>\n",
       "      <td>188.0</td>\n",
       "    </tr>\n",
       "    <tr>\n",
       "      <th>336010</th>\n",
       "      <td>129.0</td>\n",
       "      <td>124.0</td>\n",
       "    </tr>\n",
       "    <tr>\n",
       "      <th>336011</th>\n",
       "      <td>140.0</td>\n",
       "      <td>141.0</td>\n",
       "    </tr>\n",
       "    <tr>\n",
       "      <th>...</th>\n",
       "      <td>...</td>\n",
       "      <td>...</td>\n",
       "    </tr>\n",
       "    <tr>\n",
       "      <th>980961</th>\n",
       "      <td>149.0</td>\n",
       "      <td>150.0</td>\n",
       "    </tr>\n",
       "    <tr>\n",
       "      <th>980963</th>\n",
       "      <td>164.0</td>\n",
       "      <td>157.0</td>\n",
       "    </tr>\n",
       "    <tr>\n",
       "      <th>980965</th>\n",
       "      <td>162.0</td>\n",
       "      <td>166.0</td>\n",
       "    </tr>\n",
       "    <tr>\n",
       "      <th>980967</th>\n",
       "      <td>126.0</td>\n",
       "      <td>129.0</td>\n",
       "    </tr>\n",
       "    <tr>\n",
       "      <th>980969</th>\n",
       "      <td>191.0</td>\n",
       "      <td>195.0</td>\n",
       "    </tr>\n",
       "    <tr>\n",
       "      <th>980971</th>\n",
       "      <td>181.0</td>\n",
       "      <td>172.0</td>\n",
       "    </tr>\n",
       "    <tr>\n",
       "      <th>980973</th>\n",
       "      <td>177.0</td>\n",
       "      <td>92.0</td>\n",
       "    </tr>\n",
       "    <tr>\n",
       "      <th>980975</th>\n",
       "      <td>158.0</td>\n",
       "      <td>164.0</td>\n",
       "    </tr>\n",
       "    <tr>\n",
       "      <th>980977</th>\n",
       "      <td>175.0</td>\n",
       "      <td>174.0</td>\n",
       "    </tr>\n",
       "    <tr>\n",
       "      <th>980979</th>\n",
       "      <td>137.0</td>\n",
       "      <td>133.0</td>\n",
       "    </tr>\n",
       "    <tr>\n",
       "      <th>980981</th>\n",
       "      <td>151.0</td>\n",
       "      <td>153.0</td>\n",
       "    </tr>\n",
       "    <tr>\n",
       "      <th>980983</th>\n",
       "      <td>146.0</td>\n",
       "      <td>150.0</td>\n",
       "    </tr>\n",
       "    <tr>\n",
       "      <th>980985</th>\n",
       "      <td>124.0</td>\n",
       "      <td>127.0</td>\n",
       "    </tr>\n",
       "    <tr>\n",
       "      <th>980987</th>\n",
       "      <td>248.0</td>\n",
       "      <td>104.0</td>\n",
       "    </tr>\n",
       "    <tr>\n",
       "      <th>980989</th>\n",
       "      <td>103.0</td>\n",
       "      <td>66.0</td>\n",
       "    </tr>\n",
       "    <tr>\n",
       "      <th>980991</th>\n",
       "      <td>179.0</td>\n",
       "      <td>180.0</td>\n",
       "    </tr>\n",
       "    <tr>\n",
       "      <th>980993</th>\n",
       "      <td>206.0</td>\n",
       "      <td>126.0</td>\n",
       "    </tr>\n",
       "    <tr>\n",
       "      <th>980995</th>\n",
       "      <td>183.0</td>\n",
       "      <td>186.0</td>\n",
       "    </tr>\n",
       "    <tr>\n",
       "      <th>980997</th>\n",
       "      <td>121.0</td>\n",
       "      <td>76.0</td>\n",
       "    </tr>\n",
       "    <tr>\n",
       "      <th>980999</th>\n",
       "      <td>211.0</td>\n",
       "      <td>120.0</td>\n",
       "    </tr>\n",
       "    <tr>\n",
       "      <th>981001</th>\n",
       "      <td>124.0</td>\n",
       "      <td>125.0</td>\n",
       "    </tr>\n",
       "    <tr>\n",
       "      <th>981003</th>\n",
       "      <td>158.0</td>\n",
       "      <td>161.0</td>\n",
       "    </tr>\n",
       "    <tr>\n",
       "      <th>981005</th>\n",
       "      <td>172.0</td>\n",
       "      <td>173.0</td>\n",
       "    </tr>\n",
       "    <tr>\n",
       "      <th>981007</th>\n",
       "      <td>172.0</td>\n",
       "      <td>173.0</td>\n",
       "    </tr>\n",
       "    <tr>\n",
       "      <th>981009</th>\n",
       "      <td>171.0</td>\n",
       "      <td>149.0</td>\n",
       "    </tr>\n",
       "    <tr>\n",
       "      <th>981011</th>\n",
       "      <td>138.0</td>\n",
       "      <td>139.0</td>\n",
       "    </tr>\n",
       "    <tr>\n",
       "      <th>981013</th>\n",
       "      <td>158.0</td>\n",
       "      <td>159.0</td>\n",
       "    </tr>\n",
       "    <tr>\n",
       "      <th>981015</th>\n",
       "      <td>162.0</td>\n",
       "      <td>140.0</td>\n",
       "    </tr>\n",
       "    <tr>\n",
       "      <th>981017</th>\n",
       "      <td>162.0</td>\n",
       "      <td>163.0</td>\n",
       "    </tr>\n",
       "    <tr>\n",
       "      <th>981019</th>\n",
       "      <td>208.0</td>\n",
       "      <td>200.0</td>\n",
       "    </tr>\n",
       "  </tbody>\n",
       "</table>\n",
       "<p>577 rows × 2 columns</p>\n",
       "</div>"
      ],
      "text/plain": [
       "inning          1      2\n",
       "match_code              \n",
       "335982      222.0   82.0\n",
       "335983      240.0  207.0\n",
       "335984      129.0  132.0\n",
       "335985      165.0  166.0\n",
       "335986      110.0  112.0\n",
       "335987      166.0  168.0\n",
       "335988      142.0  143.0\n",
       "335989      208.0  202.0\n",
       "335990      214.0  217.0\n",
       "335991      182.0  116.0\n",
       "335992      135.0  138.0\n",
       "335993      147.0  152.0\n",
       "335994      154.0  155.0\n",
       "335995      158.0  162.0\n",
       "335996      178.0  165.0\n",
       "335997      137.0  138.0\n",
       "335998      191.0  181.0\n",
       "335999      164.0  167.0\n",
       "336000      196.0  151.0\n",
       "336001      169.0  172.0\n",
       "336002      165.0  171.0\n",
       "336003      178.0  169.0\n",
       "336004      162.0  133.0\n",
       "336005      109.0  110.0\n",
       "336006      126.0  127.0\n",
       "336007      144.0  148.0\n",
       "336008      103.0  104.0\n",
       "336009      187.0  188.0\n",
       "336010      129.0  124.0\n",
       "336011      140.0  141.0\n",
       "...           ...    ...\n",
       "980961      149.0  150.0\n",
       "980963      164.0  157.0\n",
       "980965      162.0  166.0\n",
       "980967      126.0  129.0\n",
       "980969      191.0  195.0\n",
       "980971      181.0  172.0\n",
       "980973      177.0   92.0\n",
       "980975      158.0  164.0\n",
       "980977      175.0  174.0\n",
       "980979      137.0  133.0\n",
       "980981      151.0  153.0\n",
       "980983      146.0  150.0\n",
       "980985      124.0  127.0\n",
       "980987      248.0  104.0\n",
       "980989      103.0   66.0\n",
       "980991      179.0  180.0\n",
       "980993      206.0  126.0\n",
       "980995      183.0  186.0\n",
       "980997      121.0   76.0\n",
       "980999      211.0  120.0\n",
       "981001      124.0  125.0\n",
       "981003      158.0  161.0\n",
       "981005      172.0  173.0\n",
       "981007      172.0  173.0\n",
       "981009      171.0  149.0\n",
       "981011      138.0  139.0\n",
       "981013      158.0  159.0\n",
       "981015      162.0  140.0\n",
       "981017      162.0  163.0\n",
       "981019      208.0  200.0\n",
       "\n",
       "[577 rows x 2 columns]"
      ]
     },
     "execution_count": 73,
     "metadata": {},
     "output_type": "execute_result"
    }
   ],
   "source": [
    "pivot = pd.pivot_table(df_ipl,index='match_code',columns='inning',values='total',aggfunc=np.sum)\n",
    "pivot"
   ]
  },
  {
   "cell_type": "code",
   "execution_count": 77,
   "metadata": {},
   "outputs": [],
   "source": [
    "pivot['2nd_inning_chase']=pivot.iloc[:,1]>pivot.iloc[:,0]"
   ]
  },
  {
   "cell_type": "code",
   "execution_count": 92,
   "metadata": {},
   "outputs": [],
   "source": [
    "matches_greater_than_200=pivot[pivot.iloc[:,0]>200]"
   ]
  },
  {
   "cell_type": "code",
   "execution_count": 94,
   "metadata": {},
   "outputs": [
    {
     "data": {
      "text/plain": [
       "0.1282051282051282"
      ]
     },
     "execution_count": 94,
     "metadata": {},
     "output_type": "execute_result"
    }
   ],
   "source": [
    "matches_greater_than_200['2nd_inning_chase'].sum()/matches_greater_than_200.shape[0]"
   ]
  },
  {
   "cell_type": "code",
   "execution_count": null,
   "metadata": {},
   "outputs": [],
   "source": []
  },
  {
   "cell_type": "markdown",
   "metadata": {},
   "source": [
    "### Every season has that one team which is outperforming others and is in great form. Which team has the highest win counts in their respective seasons ?"
   ]
  },
  {
   "cell_type": "code",
   "execution_count": 98,
   "metadata": {},
   "outputs": [
    {
     "ename": "AttributeError",
     "evalue": "'DataFrame' object has no attribute 'value_counts'",
     "output_type": "error",
     "traceback": [
      "\u001b[1;31m---------------------------------------------------------------------------\u001b[0m",
      "\u001b[1;31mAttributeError\u001b[0m                            Traceback (most recent call last)",
      "\u001b[1;32m<ipython-input-98-9710dca7166e>\u001b[0m in \u001b[0;36m<module>\u001b[1;34m()\u001b[0m\n\u001b[1;32m----> 1\u001b[1;33m \u001b[0mseason_wise_winner\u001b[0m\u001b[1;33m=\u001b[0m\u001b[0mdf_ipl\u001b[0m\u001b[1;33m.\u001b[0m\u001b[0mgroupby\u001b[0m\u001b[1;33m(\u001b[0m\u001b[1;33m[\u001b[0m\u001b[1;34m'year'\u001b[0m\u001b[1;33m,\u001b[0m\u001b[1;34m'match_code'\u001b[0m\u001b[1;33m]\u001b[0m\u001b[1;33m)\u001b[0m\u001b[1;33m.\u001b[0m\u001b[0mwinner\u001b[0m\u001b[1;33m.\u001b[0m\u001b[0munique\u001b[0m\u001b[1;33m(\u001b[0m\u001b[1;33m)\u001b[0m\u001b[1;33m.\u001b[0m\u001b[0mreset_index\u001b[0m\u001b[1;33m(\u001b[0m\u001b[1;33m)\u001b[0m\u001b[1;33m.\u001b[0m\u001b[0mvalue_counts\u001b[0m\u001b[1;33m(\u001b[0m\u001b[1;33m)\u001b[0m\u001b[1;33m\u001b[0m\u001b[0m\n\u001b[0m",
      "\u001b[1;32m~\\anaconda\\lib\\site-packages\\pandas\\core\\generic.py\u001b[0m in \u001b[0;36m__getattr__\u001b[1;34m(self, name)\u001b[0m\n\u001b[0;32m   3612\u001b[0m             \u001b[1;32mif\u001b[0m \u001b[0mname\u001b[0m \u001b[1;32min\u001b[0m \u001b[0mself\u001b[0m\u001b[1;33m.\u001b[0m\u001b[0m_info_axis\u001b[0m\u001b[1;33m:\u001b[0m\u001b[1;33m\u001b[0m\u001b[0m\n\u001b[0;32m   3613\u001b[0m                 \u001b[1;32mreturn\u001b[0m \u001b[0mself\u001b[0m\u001b[1;33m[\u001b[0m\u001b[0mname\u001b[0m\u001b[1;33m]\u001b[0m\u001b[1;33m\u001b[0m\u001b[0m\n\u001b[1;32m-> 3614\u001b[1;33m             \u001b[1;32mreturn\u001b[0m \u001b[0mobject\u001b[0m\u001b[1;33m.\u001b[0m\u001b[0m__getattribute__\u001b[0m\u001b[1;33m(\u001b[0m\u001b[0mself\u001b[0m\u001b[1;33m,\u001b[0m \u001b[0mname\u001b[0m\u001b[1;33m)\u001b[0m\u001b[1;33m\u001b[0m\u001b[0m\n\u001b[0m\u001b[0;32m   3615\u001b[0m \u001b[1;33m\u001b[0m\u001b[0m\n\u001b[0;32m   3616\u001b[0m     \u001b[1;32mdef\u001b[0m \u001b[0m__setattr__\u001b[0m\u001b[1;33m(\u001b[0m\u001b[0mself\u001b[0m\u001b[1;33m,\u001b[0m \u001b[0mname\u001b[0m\u001b[1;33m,\u001b[0m \u001b[0mvalue\u001b[0m\u001b[1;33m)\u001b[0m\u001b[1;33m:\u001b[0m\u001b[1;33m\u001b[0m\u001b[0m\n",
      "\u001b[1;31mAttributeError\u001b[0m: 'DataFrame' object has no attribute 'value_counts'"
     ]
    }
   ],
   "source": [
    "season_wise_winner=df_ipl.groupby(['year','match_code']).winner.unique().reset_index()"
   ]
  },
  {
   "cell_type": "code",
   "execution_count": 99,
   "metadata": {},
   "outputs": [
    {
     "data": {
      "text/plain": [
       "[Mumbai Indians]                 80\n",
       "[Chennai Super Kings]            79\n",
       "[Royal Challengers Bangalore]    69\n",
       "[Kolkata Knight Riders]          68\n",
       "[Kings XI Punjab]                61\n",
       "[Rajasthan Royals]               61\n",
       "[Delhi Daredevils]               56\n",
       "[Sunrisers Hyderabad]            33\n",
       "[Deccan Chargers]                29\n",
       "[Pune Warriors]                  12\n",
       "[Gujarat Lions]                   9\n",
       "[Kochi Tuskers Kerala]            6\n",
       "[Rising Pune Supergiants]         5\n",
       "[nan]                             1\n",
       "[nan]                             1\n",
       "[nan]                             1\n",
       "[nan]                             1\n",
       "[nan]                             1\n",
       "[nan]                             1\n",
       "[nan]                             1\n",
       "[nan]                             1\n",
       "[nan]                             1\n",
       "Name: winner, dtype: int64"
      ]
     },
     "execution_count": 99,
     "metadata": {},
     "output_type": "execute_result"
    }
   ],
   "source": [
    "season_wise_winner.winner.value_counts()"
   ]
  },
  {
   "cell_type": "code",
   "execution_count": null,
   "metadata": {},
   "outputs": [],
   "source": []
  }
 ],
 "metadata": {
  "kernelspec": {
   "display_name": "Python 3",
   "language": "python",
   "name": "python3"
  },
  "language_info": {
   "codemirror_mode": {
    "name": "ipython",
    "version": 3
   },
   "file_extension": ".py",
   "mimetype": "text/x-python",
   "name": "python",
   "nbconvert_exporter": "python",
   "pygments_lexer": "ipython3",
   "version": "3.6.4"
  }
 },
 "nbformat": 4,
 "nbformat_minor": 2
}
